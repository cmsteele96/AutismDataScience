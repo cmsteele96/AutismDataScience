{
 "cells": [
  {
   "cell_type": "code",
   "execution_count": 2,
   "id": "9bfda661",
   "metadata": {},
   "outputs": [
    {
     "name": "stdout",
     "output_type": "stream",
     "text": [
      "Please answer the following questions with '1' for agree or '0' for disagree.\n",
      "I find it easy to work out what someone is thinking or feeling just by looking at their face (1/0): 1\n",
      "I find it easy to ‘read between the lines’ when someone is talking to me (1/0): 0\n",
      "If there is an interruption, I can switch back to what I was doing very quickly (1/0): 0\n",
      "I like to collect information about categories of things (e.g. types of car, types of bird, types of train, types of plant etc) (1/0): 1\n",
      "I usually concentrate more on the whole picture, rather than the small details (1/0): 1\n",
      "Not likely autistic.\n"
     ]
    }
   ],
   "source": [
    "def autism_diagnosis():\n",
    "    print(\"Please answer the following questions with '1' for agree or '0' for disagree.\")\n",
    "\n",
    "    # Question A9\n",
    "    a9 = int(input(\"I find it easy to work out what someone is thinking or feeling just by looking at their face (1/0): \"))\n",
    "\n",
    "    if a9 == 1:\n",
    "        # Question A5\n",
    "        a5 = int(input(\"I find it easy to ‘read between the lines’ when someone is talking to me (1/0): \"))\n",
    "\n",
    "        if a5 == 1:\n",
    "            print(\"Not likely autistic.\")\n",
    "        else:\n",
    "            # Question A4\n",
    "            a4 = int(input(\"If there is an interruption, I can switch back to what I was doing very quickly (1/0): \"))\n",
    "\n",
    "            if a4 == 1:\n",
    "                print(\"Not likely autistic.\")\n",
    "            else:\n",
    "                # Question A8\n",
    "                a8 = int(input(\"I like to collect information about categories of things (e.g. types of car, types of bird, types of train, types of plant etc) (1/0): \"))\n",
    "\n",
    "                if a8 == 0:\n",
    "                    print(\"Not likely autistic.\")\n",
    "                else:\n",
    "                    # Question A2\n",
    "                    a2 = int(input(\"I usually concentrate more on the whole picture, rather than the small details (1/0): \"))\n",
    "\n",
    "                    if a2 == 1:\n",
    "                        print(\"Not likely autistic.\")\n",
    "                    else:\n",
    "                        print(\"Consider referral for a specialist diagnostic assessment.\")\n",
    "    else:\n",
    "        # A9 disagree, A5 agree, A3 disagree, A7 agree\n",
    "        a5 = int(input(\"I find it easy to ‘read between the lines’ when someone is talking to me (1/0): \"))\n",
    "        if a5 == 1:\n",
    "            a3 = int(input(\"I find it easy to do more than one thing at once (1/0): \"))\n",
    "            if a3 == 0:\n",
    "                a7 = int(input(\"When I’m reading a story I find it difficult to work out the characters’ intentions (1/0): \"))\n",
    "                if a7 == 1:\n",
    "                    print(\"Consider referral for a specialist diagnostic assessment.\")\n",
    "                else:\n",
    "                    print(\"Not likely autistic.\")\n",
    "            else:\n",
    "                print(\"Not likely autistic.\")\n",
    "        else:\n",
    "            # A9 disagree, A5 agree, A3 disagree, A7 disagree, A1 agree, A6 disagree\n",
    "            a1 = int(input(\"I often notice small sounds when others do not (1/0): \"))\n",
    "            if a1 == 0:\n",
    "                a6 = int(input(\"I know how to tell if someone listening to me is getting bored (1/0): \"))\n",
    "                if a6 == 1:\n",
    "                    print(\"Not likely autistic.\")\n",
    "                else:\n",
    "                    print(\"Consider referral for a specialist diagnostic assessment.\")\n",
    "            else:\n",
    "                print(\"Consider referral for a specialist diagnostic assessment.\")\n",
    "\n",
    "# Run the function\n",
    "autism_diagnosis()\n",
    "\n"
   ]
  },
  {
   "cell_type": "code",
   "execution_count": null,
   "id": "cddc4238",
   "metadata": {},
   "outputs": [],
   "source": []
  }
 ],
 "metadata": {
  "kernelspec": {
   "display_name": "Python 3 (ipykernel)",
   "language": "python",
   "name": "python3"
  },
  "language_info": {
   "codemirror_mode": {
    "name": "ipython",
    "version": 3
   },
   "file_extension": ".py",
   "mimetype": "text/x-python",
   "name": "python",
   "nbconvert_exporter": "python",
   "pygments_lexer": "ipython3",
   "version": "3.9.13"
  }
 },
 "nbformat": 4,
 "nbformat_minor": 5
}
